{
 "cells": [
  {
   "cell_type": "code",
   "execution_count": 1,
   "id": "809cc6de",
   "metadata": {},
   "outputs": [],
   "source": [
    "import pandas as pd\n",
    "import numpy as np\n",
    "import seaborn as sns\n",
    "import matplotlib.pyplot as plt\n",
    "\n",
    "from scipy import integrate\n",
    "import math"
   ]
  },
  {
   "cell_type": "code",
   "execution_count": 2,
   "id": "d0a9f382",
   "metadata": {},
   "outputs": [],
   "source": [
    "def F(y,x,Sn,Sl):\n",
    "    beta = (Sn/Sl)**1.5\n",
    "    f = 1#2**0.5\n",
    "    num = (x**2)*(y**2)*(np.exp(-x))*(np.exp(-y))  #\n",
    "    deno = (np.exp(-x)/(beta*f)) + (np.exp(-y)/f)\n",
    "    return num/deno\n",
    "    "
   ]
  },
  {
   "cell_type": "code",
   "execution_count": 46,
   "id": "1712151b",
   "metadata": {},
   "outputs": [],
   "source": [
    "filename = '/Users/rajorshi/Desktop/Na_wannier.xyz'\n",
    "filename_spread = '/Users/rajorshi/Desktop/Na_spread.xyz'\n",
    "\n",
    "with open(filename) as f:\n",
    "    lines = f.readlines()\n",
    "with open(filename_spread) as f_sp:\n",
    "    lines_sp = f_sp.readlines()\n",
    "\n",
    "wan_cent = {}\n",
    "wan_sp = {}\n",
    "count = 0\n",
    "count_C = 0\n",
    "count_sp = 2\n",
    "\n",
    "for i in range(len(lines)):\n",
    "    s = lines[i].split()\n",
    "    if s[0]=='X':\n",
    "        count = count+1\n",
    "        if count == 1:\n",
    "            start_wan = i\n",
    "\n",
    "for i in range(len(lines)):\n",
    "    s = lines[i].split()\n",
    "    if s[0]=='Na':\n",
    "        count_C = count_C + 1\n",
    "        key = 'Na_'+str(count_C)\n",
    "        \n",
    "        temp = lines[start_wan].split()\n",
    "        temp_1 = lines[start_wan+1].split()\n",
    "        temp_2 = lines[start_wan+2].split()\n",
    "        temp_3 = lines[start_wan+3].split()\n",
    "        temp_sp = float(lines_sp[count_sp].split()[2])\n",
    "        temp_sp_1 = float(lines_sp[count_sp+1].split()[2])\n",
    "        temp_sp_2 = float(lines_sp[count_sp+2].split()[2])\n",
    "        temp_sp_3 = float(lines_sp[count_sp+3].split()[2])\n",
    "        \n",
    "        wan_1 = [float(temp[1]),float(temp[2]),float(temp[3])]\n",
    "        wan_2 = [float(temp_1[1]),float(temp_1[2]),float(temp_1[3])]\n",
    "        wan_3 = [float(temp_2[1]),float(temp_2[2]),float(temp_2[3])]\n",
    "        wan_4 = [float(temp_3[1]),float(temp_3[2]),float(temp_3[3])]\n",
    "        \n",
    "        wan_cent.update({key:(wan_1,wan_2,wan_3,wan_4)})\n",
    "        wan_sp.update({key:(temp_sp,temp_sp_1,temp_sp_2,temp_sp_3)})\n",
    "        \n",
    "        start_wan = start_wan + 4\n",
    "        count_sp = count_sp + 4\n",
    "        "
   ]
  },
  {
   "cell_type": "code",
   "execution_count": 47,
   "id": "e25d32ea",
   "metadata": {},
   "outputs": [
    {
     "data": {
      "text/plain": [
       "{'Na_1': ([0.1232538046, 0.1232533043, 0.123254142],\n",
       "  [0.0396670162, -0.2060166415, 0.0396669635],\n",
       "  [-0.206016711, 0.0396676333, 0.039667345],\n",
       "  [0.0396675762, 0.0396677848, -0.206016418]),\n",
       " 'Na_2': ([0.1232538046, 0.1232533043, 0.123254142],\n",
       "  [0.0396670162, -0.2060166415, 0.0396669635],\n",
       "  [-0.206016711, 0.0396676333, 0.039667345],\n",
       "  [0.0396675762, 0.0396677848, -0.206016418])}"
      ]
     },
     "execution_count": 47,
     "metadata": {},
     "output_type": "execute_result"
    }
   ],
   "source": [
    "wan_cent"
   ]
  },
  {
   "cell_type": "code",
   "execution_count": 3,
   "id": "a4338726",
   "metadata": {},
   "outputs": [
    {
     "ename": "NameError",
     "evalue": "name 'wan_cent' is not defined",
     "output_type": "error",
     "traceback": [
      "\u001b[0;31m---------------------------------------------------------------------------\u001b[0m",
      "\u001b[0;31mNameError\u001b[0m                                 Traceback (most recent call last)",
      "Input \u001b[0;32mIn [3]\u001b[0m, in \u001b[0;36m<cell line: 6>\u001b[0;34m()\u001b[0m\n\u001b[1;32m      3\u001b[0m conv \u001b[38;5;241m=\u001b[39m \u001b[38;5;241m1\u001b[39m\u001b[38;5;66;03m#1.88973\u001b[39;00m\n\u001b[1;32m      4\u001b[0m inte \u001b[38;5;241m=\u001b[39m []\n\u001b[0;32m----> 6\u001b[0m \u001b[38;5;28;01mfor\u001b[39;00m spe \u001b[38;5;129;01min\u001b[39;00m \u001b[43mwan_cent\u001b[49m\u001b[38;5;241m.\u001b[39mkeys():\n\u001b[1;32m      7\u001b[0m     key_1 \u001b[38;5;241m=\u001b[39m spe\n\u001b[1;32m      8\u001b[0m     \u001b[38;5;28;01mfor\u001b[39;00m j \u001b[38;5;129;01min\u001b[39;00m \u001b[38;5;28mrange\u001b[39m(\u001b[38;5;28mlen\u001b[39m(wan_cent[key_1])):\n",
      "\u001b[0;31mNameError\u001b[0m: name 'wan_cent' is not defined"
     ]
    }
   ],
   "source": [
    "from scipy import integrate\n",
    "\n",
    "conv = 1#1.88973\n",
    "inte = []\n",
    "\n",
    "for spe in wan_cent.keys():\n",
    "    key_1 = spe\n",
    "    for j in range(len(wan_cent[key_1])):\n",
    "        wan_1 = wan_cent[key_1][j]\n",
    "        sp_1 = ((wan_sp[key_1][j])**0.5)/(2*math.pi)\n",
    "        #print(key_1,wan_1,sp_1)\n",
    "        for key_2 in wan_cent.keys():\n",
    "            if key_2 != key_1:\n",
    "                for p in range(len(wan_cent[key_2])): \n",
    "                    wan_2 = wan_cent[key_2][p]\n",
    "                    sp_2 = ((wan_sp[key_2][p])**0.5)/(2*math.pi)\n",
    "                    #print(key_2,wan_2,sp_2)\n",
    "                    rc_1 = sp_1*conv*(3**0.5)*(0.769+(0.5*np.log(sp_1*conv)))\n",
    "                    rc_2 = sp_2*conv*(3**0.5)*(0.769+(0.5*np.log(sp_2*conv)))\n",
    "                    rc_1_1 = sp_1*conv*(1.475-(0.866*np.log(sp_1*conv)))\n",
    "                    rc_2_2 = sp_2*conv*(1.475-(0.866*np.log(sp_2*conv)))\n",
    "                    lim_x = ((3**0.5)*rc_1)/(sp_1*conv)\n",
    "                    lim_y = ((3**0.5)*rc_2)/(sp_2*conv)\n",
    "                    print(rc_1,rc_2)\n",
    "                    #print(rc_1_1,rc_2_2)\n",
    "                    res = integrate.dblquad(F, 0, lim_x, 0, lim_y, args = (sp_1,sp_2))\n",
    "                    print(res)\n",
    "                    prefac = ((sp_1**1.5)*(sp_2**3)*(conv**4.5))/(2*(3**1.25))\n",
    "                    #print(prefac)\n",
    "                    inte.append(prefac*res[0])"
   ]
  },
  {
   "cell_type": "code",
   "execution_count": 120,
   "id": "4a61d358",
   "metadata": {},
   "outputs": [
    {
     "name": "stdout",
     "output_type": "stream",
     "text": [
      "3.1309592165010818 3.1309592165010818\n",
      "1.6923927060099657 1.6923927060099657\n",
      "(5.012237398136023, 5.5647013642979e-14)\n",
      "1.4999999999999996 7.518356097204031\n"
     ]
    }
   ],
   "source": [
    "sp_1 =(3**0.5)\n",
    "sp_2 =(3**0.5)\n",
    "conv =1\n",
    "rc_1 = (sp_1*conv*(3**0.5))*(0.769+(0.5*np.log(sp_1*conv)))\n",
    "rc_2 = (sp_2*conv)*(3**0.5)*(0.769+(0.5*np.log(sp_2*conv)))\n",
    "#rc_1_1 = sp_1*conv*(1.475-(0.866*np.log(sp_1*conv)))\n",
    "#rc_2_2 = sp_2*conv*(1.475-(0.866*np.log(sp_2*conv)))\n",
    "lim_x = ((3**0.5)*rc_1)/(sp_1*conv)\n",
    "lim_y = ((3**0.5)*rc_2)/(sp_2*conv)\n",
    "print(rc_1,rc_2)\n",
    "print(rc_1_1,rc_2_2)\n",
    "#res = integrate.dblquad(F, 0, lim_x, 0, lim_y, args = (sp_1,sp_2))\n",
    "res = integrate.nquad(F, [[0,lim_y],[0,lim_x]], args = (sp_1,sp_2))\n",
    "print(res)\n",
    "prefac = ((sp_1**1.5)*(sp_2**3)*(conv**4.5))/(2*(3**1.25))\n",
    "print(prefac,prefac*res[0])"
   ]
  },
  {
   "cell_type": "code",
   "execution_count": 104,
   "id": "13a5ce63",
   "metadata": {},
   "outputs": [
    {
     "data": {
      "text/plain": [
       "4.340000000000001"
      ]
     },
     "execution_count": 104,
     "metadata": {},
     "output_type": "execute_result"
    }
   ],
   "source": [
    "6.51/prefac"
   ]
  },
  {
   "cell_type": "code",
   "execution_count": 42,
   "id": "b8696125",
   "metadata": {},
   "outputs": [
    {
     "data": {
      "text/plain": [
       "0.5941481103688326"
      ]
     },
     "execution_count": 42,
     "metadata": {},
     "output_type": "execute_result"
    }
   ],
   "source": [
    "sum(inte[0:16])"
   ]
  },
  {
   "cell_type": "code",
   "execution_count": 43,
   "id": "d3d6eef6",
   "metadata": {},
   "outputs": [
    {
     "data": {
      "text/plain": [
       "0.10503153946774371"
      ]
     },
     "execution_count": 43,
     "metadata": {},
     "output_type": "execute_result"
    }
   ],
   "source": [
    "(sum(inte)/len(inte))*(2**1.5)"
   ]
  },
  {
   "cell_type": "code",
   "execution_count": 88,
   "id": "6601b43b",
   "metadata": {},
   "outputs": [
    {
     "data": {
      "text/plain": [
       "8.693480832770453"
      ]
     },
     "execution_count": 88,
     "metadata": {},
     "output_type": "execute_result"
    }
   ],
   "source": [
    "#empirical relation\n",
    "\n",
    "Za = 1\n",
    "Zb = 1\n",
    "Sa = 1.5502489404291333#3**0.5\n",
    "Sb = 1.5502489404291333#3**0.5\n",
    "pol_H = 4.5\n",
    "gam = pol_H/(3**1.5)\n",
    "\n",
    "C6 = (1.5*((Za*Zb)**0.5)*(Sa*Sb)**3*(gam**1.5))/(Zb**0.5*Sa**1.5 + Za**0.5*Sb**1.5)\n",
    "C6*2"
   ]
  },
  {
   "cell_type": "code",
   "execution_count": 32,
   "id": "7967d26d",
   "metadata": {},
   "outputs": [
    {
     "data": {
      "text/plain": [
       "{'Na_1': ([0.1232538046, 0.1232533043, 0.123254142],\n",
       "  [0.0396670162, -0.2060166415, 0.0396669635],\n",
       "  [-0.206016711, 0.0396676333, 0.039667345],\n",
       "  [0.0396675762, 0.0396677848, -0.206016418]),\n",
       " 'Na_2': ([0.1232538046, 0.1232533043, 0.123254142],\n",
       "  [0.0396670162, -0.2060166415, 0.0396669635],\n",
       "  [-0.206016711, 0.0396676333, 0.039667345],\n",
       "  [0.0396675762, 0.0396677848, -0.206016418])}"
      ]
     },
     "execution_count": 32,
     "metadata": {},
     "output_type": "execute_result"
    }
   ],
   "source": [
    "wan_cent"
   ]
  },
  {
   "cell_type": "code",
   "execution_count": 83,
   "id": "9659b680",
   "metadata": {},
   "outputs": [
    {
     "data": {
      "text/plain": [
       "1.5502489404291333"
      ]
     },
     "execution_count": 83,
     "metadata": {},
     "output_type": "execute_result"
    }
   ],
   "source": [
    "((0.67298188)**0.5)*1.88973"
   ]
  },
  {
   "cell_type": "code",
   "execution_count": 103,
   "id": "062b7ecd",
   "metadata": {},
   "outputs": [
    {
     "data": {
      "text/plain": [
       "2.302585092994046"
      ]
     },
     "execution_count": 103,
     "metadata": {},
     "output_type": "execute_result"
    }
   ],
   "source": [
    "np.log(10)"
   ]
  },
  {
   "cell_type": "code",
   "execution_count": 3,
   "id": "431da5de",
   "metadata": {},
   "outputs": [],
   "source": [
    "def calc_coeff(wan_frag_1,wan_frag_2,wan_frag_1_dist,wan_frag_2_dist):\n",
    "    conv = 1#1.88973\n",
    "    conv_1 = 1.88973  #ang to bohr\n",
    "    inte = []\n",
    "    C6 = []\n",
    "    C8 = []\n",
    "    \n",
    "    for ele1,ele1_dist in zip(wan_frag_1,wan_frag_1_dist):  #extract spread and distance for elements from frag 1\n",
    "        count = 0\n",
    "        for ele2,ele2_dist in zip(wan_frag_2,wan_frag_2_dist): #extract spread and distance for elements from frag 2\n",
    "            temp_6 = 0\n",
    "            temp_8 = 0\n",
    "            if (ele1 != ele2).all():  #remove self interactions\n",
    "                for wan1,dist1 in zip(ele1,ele1_dist):    #iterate over wannier centers of both fragments\n",
    "                    for wan2,dist2 in zip(ele2,ele2_dist): \n",
    "                        sp_1 = (wan1)**0.5                #sqaure root of spread (in bohr)\n",
    "                        sp_2 = (wan2)**0.5\n",
    "                        #print(sp_1,sp_2)\n",
    "                        rc_1 = sp_1*conv*(3**0.5)*(0.769+(0.5*np.log(sp_1*conv)))\n",
    "                        rc_2 = sp_2*conv*(3**0.5)*(0.769+(0.5*np.log(sp_2*conv)))\n",
    "                        lim_x = ((3**0.5)*rc_1)/(sp_1*conv)  #limits of integration\n",
    "                        lim_y = ((3**0.5)*rc_2)/(sp_2*conv)\n",
    "        \n",
    "                        res = integrate.dblquad(F, 0, lim_x, 0, lim_y, args = (sp_1,sp_2))\n",
    "                        prefac = ((sp_1**1.5)*(sp_2**3)*(conv**4.5))/(2*(3**1.25))\n",
    "                        temp_6 = temp_6 + (prefac*res[0])     #calculate C6 for current wannier pair\n",
    "                        temp_8 = temp_8 + ((prefac*res[0])*5*(conv_1**2)*((dist1**2)+(dist2**2)))  #calculate C8 from C6\n",
    "                C6.append(temp_6)\n",
    "                C8.append(temp_8)\n",
    "            else:\n",
    "                continue\n",
    "            \n",
    "    return C6,C8    "
   ]
  },
  {
   "cell_type": "code",
   "execution_count": 4,
   "id": "d2c895e7",
   "metadata": {},
   "outputs": [],
   "source": [
    "def calc_dist(ion,wan):\n",
    "    #print(ion,wan)\n",
    "    d = []\n",
    "    x = float(ion.split()[1])\n",
    "    y = float(ion.split()[2])\n",
    "    z = float(ion.split()[3])\n",
    "    for i in range(len(wan)):\n",
    "        wan_x = float(wan[i].split()[1])\n",
    "        wan_y = float(wan[i].split()[2])\n",
    "        wan_z = float(wan[i].split()[3])\n",
    "        dist = ((wan_x-x)**2 + (wan_y-y)**2 + (wan_z-z)**2)**0.5  #calculate distance from ion to wannier\n",
    "        d.append(dist)\n",
    "    return d"
   ]
  },
  {
   "cell_type": "code",
   "execution_count": 5,
   "id": "815337f4",
   "metadata": {},
   "outputs": [
    {
     "name": "stdout",
     "output_type": "stream",
     "text": [
      "Calculating 1 frame\n",
      "Calculating 2 frame\n",
      "Calculating 3 frame\n",
      "Calculating 4 frame\n",
      "Calculating 5 frame\n",
      "Calculating 6 frame\n",
      "Calculating 7 frame\n",
      "Calculating 8 frame\n",
      "Calculating 9 frame\n",
      "Calculating 10 frame\n",
      "Calculating 11 frame\n",
      "Calculating 12 frame\n",
      "Calculating 13 frame\n",
      "Calculating 14 frame\n"
     ]
    }
   ],
   "source": [
    "#driver code for calculating C6 and C8 for unlike fragments (eg. Na-Cl,Cl-O...)\n",
    "\n",
    "frag = 2                #enter number of fragments\n",
    "n_frag_1 = 32           #number of atoms in fragment 1\n",
    "n_frag_2 = 96           #number of atoms in fragment 2\n",
    "n_wan_at = 4            #number of wannier centers associated with each atom\n",
    "\n",
    "\n",
    "#filename_wan_sort = '/Users/rajorshi/Desktop/AIMD/773K_5kbar/Cl-O/110_frame_conv/wannier_sort.xyz' #wannier centers sorted according to ions\n",
    "#filename_sp_sort = '/Users/rajorshi/Desktop/AIMD/773K_5kbar/Cl-O/110_frame_conv/spread_sort.xyz' #wannier spreads sorted accoridng to ions\n",
    "#filename_uw = '/Users/rajorshi/Desktop/AIMD/773K_5kbar/Cl-O/110_frame_conv/wannier_sort_uw.xyz' #unwrapped coordinates\n",
    "\n",
    "filename_wan_sort = '/Users/rajorshi/Desktop/AIMD/LaCl3_crystal/15_frame_conv_hyd/wannier_sort.xyz' #wannier centers sorted according to ions\n",
    "filename_sp_sort = '/Users/rajorshi/Desktop/AIMD/LaCl3_crystal/15_frame_conv_hyd/spread_sort.xyz' #wannier spreads sorted accoridng to ions\n",
    "filename_uw = '/Users/rajorshi/Desktop/AIMD/LaCl3_crystal/15_frame_conv_hyd/wannier_sort_uw.xyz' #unwrapped coordinate\n",
    "\n",
    "#filename_wan_sort = '/Users/rajorshi/Desktop/AIMD/Traj_yuan_mei/773K_5kbar_LaCl3/50_frame_conv/wannier_sort.xyz' #wannier centers sorted according to ions\n",
    "#filename_sp_sort = '/Users/rajorshi/Desktop/AIMD/Traj_yuan_mei/773K_5kbar_LaCl3/50_frame_conv/spread_sort.xyz' #wannier spreads sorted accoridng to ions\n",
    "#filename_uw = '/Users/rajorshi/Desktop/AIMD/Traj_yuan_mei/773K_5kbar_LaCl3/50_frame_conv/wannier_sort_uw.xyz' #unwrapped coordinates\n",
    "\n",
    "with open(filename_wan_sort) as f:\n",
    "    lines = f.readlines()\n",
    "with open(filename_sp_sort) as f1:\n",
    "    lines_sp = f1.readlines()\n",
    "with open(filename_uw) as f2:\n",
    "    lines_uw = f2.readlines()\n",
    "\n",
    "n_wan = int(lines_sp[0].split()[0])  #total number od wannier centers\n",
    "n_atom = int(lines[0].split()[0])-n_wan #total number of atoms\n",
    "start_sp = 2\n",
    "temp_C6 = []\n",
    "count_fr = 0\n",
    "C6_final = []\n",
    "C8_final = []\n",
    "\n",
    "for i in range(len(lines_uw)):\n",
    "    s = lines_uw[i].split()\n",
    "    if len(s)==1:\n",
    "        count_fr = count_fr + 1\n",
    "        wan_frag_1 = np.zeros((n_frag_1,n_wan_at)) #2D array with rows as ions and columns are spreads(in bohr**2)\n",
    "        wan_frag_2 = np.zeros((n_frag_2,n_wan_at))\n",
    "        wan_frag_1_dist = np.zeros((n_frag_1,n_wan_at)) #2D array with rows as ions and columns are distance of wannier from ion(in ang)\n",
    "        wan_frag_2_dist = np.zeros((n_frag_2,n_wan_at))\n",
    "        temp_sp = lines_sp[start_sp:start_sp+n_wan]  #extract spreads for current frame\n",
    "        start_sp = start_sp+n_wan+2\n",
    "        coord = lines_uw[i+2:i+2+n_atom]   #extract unwrapped ion coordinates for current frame\n",
    "        count_1 = 0\n",
    "        count_2 = 0\n",
    "        start = 0\n",
    "        start_wan = i+2+n_atom\n",
    "        print('Calculating {0} frame'.format(count_fr))\n",
    "        for j in range(len(coord)):\n",
    "            s1 = coord[j].split()\n",
    "            \n",
    "            if s1[0] == 'La':  #element in frag 1\n",
    "                wan_1 = float(temp_sp[start].split()[2])   #extract wannier spreads\n",
    "                wan_2 = float(temp_sp[start+1].split()[2])\n",
    "                wan_3 = float(temp_sp[start+2].split()[2])\n",
    "                wan_4 = float(temp_sp[start+3].split()[2])\n",
    "                start = start + 4\n",
    "                dist = calc_dist(coord[j],lines_uw[start_wan:start_wan+4]) #calculate distance of wannier from ion\n",
    "                start_wan = start_wan + 4\n",
    "                \n",
    "                wan_frag_1[count_1][:] = wan_1,wan_2,wan_3,wan_4  \n",
    "                wan_frag_1_dist[count_1][:] = dist[0],dist[1],dist[2],dist[3]\n",
    "                count_1 = count_1 + 1\n",
    "            elif s1[0] == 'Cl':  #element in frag 2\n",
    "                wan_1 = float(temp_sp[start].split()[2])\n",
    "                wan_2 = float(temp_sp[start+1].split()[2])\n",
    "                wan_3 = float(temp_sp[start+2].split()[2])\n",
    "                wan_4 = float(temp_sp[start+3].split()[2])\n",
    "                start = start + 4\n",
    "                dist = calc_dist(coord[j],lines_uw[start_wan:start_wan+4])\n",
    "                start_wan = start_wan + 4\n",
    "                \n",
    "                wan_frag_2[count_2][:] = wan_1,wan_2,wan_3,wan_4\n",
    "                wan_frag_2_dist[count_2][:] = dist[0],dist[1],dist[2],dist[3]\n",
    "                count_2 = count_2 + 1\n",
    "            elif s1[0] == 'O':\n",
    "                start = start + 4\n",
    "                start_wan = start_wan + 4\n",
    "                \n",
    "        #wan_frag_1 = wan_sp[0][:][:]\n",
    "        #wan_frag_2 = wan_sp[1][:][:]\n",
    "        #wan_frag_1_dist = wan_dist[0][:][:]\n",
    "        #wan_frag_2_dist = wan_dist[1][:][:]\n",
    "        #print(wan_frag_1_dist)\n",
    "        #print(coord[-1])\n",
    "        temp_C6,temp_C8=calc_coeff(wan_frag_1,wan_frag_2,wan_frag_1_dist,wan_frag_2_dist) #cal C6 and C8 for current frame\n",
    "        #print(temp_C6,temp_C8)\n",
    "        C6_final.extend(temp_C6)\n",
    "        C8_final.extend(temp_C8)\n",
    "        "
   ]
  },
  {
   "cell_type": "code",
   "execution_count": 22,
   "id": "7ded13bc",
   "metadata": {},
   "outputs": [
    {
     "data": {
      "text/plain": [
       "array([[2.71829479, 2.69175644, 2.68023003, 2.67328609]])"
      ]
     },
     "execution_count": 22,
     "metadata": {},
     "output_type": "execute_result"
    }
   ],
   "source": [
    "wan_frag_1"
   ]
  },
  {
   "cell_type": "code",
   "execution_count": 8,
   "id": "04f772a2",
   "metadata": {},
   "outputs": [
    {
     "name": "stdout",
     "output_type": "stream",
     "text": [
      "Calculating 1 frame\n",
      "Calculating 2 frame\n",
      "Calculating 3 frame\n",
      "Calculating 4 frame\n",
      "Calculating 5 frame\n",
      "Calculating 6 frame\n",
      "Calculating 7 frame\n",
      "Calculating 8 frame\n",
      "Calculating 9 frame\n",
      "Calculating 10 frame\n",
      "Calculating 11 frame\n",
      "Calculating 12 frame\n",
      "Calculating 13 frame\n",
      "Calculating 14 frame\n"
     ]
    }
   ],
   "source": [
    "#driver code for calculating C6 and C8 for like fragments (eg. Cl-Cl,Na-Na...)\n",
    "\n",
    "frag = 2\n",
    "n_frag_1 = 32\n",
    "n_frag_2 = 32\n",
    "n_wan_at = 4\n",
    "\n",
    "\n",
    "filename_wan_sort = '/Users/rajorshi/Desktop/AIMD/LaCl3_crystal/15_frame_conv_hyd/wannier_sort.xyz'#'/Users/rajorshi/Desktop/AIMD/773K_1kbar/wan_2disp/test/wannier_sort.xyz'\n",
    "filename_sp_sort = '/Users/rajorshi/Desktop/AIMD/LaCl3_crystal/15_frame_conv_hyd/spread_sort.xyz'\n",
    "filename_sp_uw = '/Users/rajorshi/Desktop/AIMD/LaCl3_crystal/15_frame_conv_hyd/wannier_sort_uw.xyz'\n",
    "\n",
    "with open(filename_wan_sort) as f:\n",
    "    lines = f.readlines()\n",
    "with open(filename_sp_sort) as f1:\n",
    "    lines_sp = f1.readlines()\n",
    "with open(filename_sp_uw) as f2:\n",
    "    lines_uw = f2.readlines()\n",
    "\n",
    "n_wan = int(lines_sp[0].split()[0])\n",
    "n_atom = int(lines[0].split()[0])-n_wan\n",
    "start_sp = 2\n",
    "temp_C6 = []\n",
    "count_fr = 0\n",
    "C6_final = []\n",
    "C8_final = []\n",
    "\n",
    "for i in range(len(lines_uw)):\n",
    "    s = lines_uw[i].split()\n",
    "    if len(s)==1:\n",
    "        count_fr = count_fr + 1\n",
    "        wan_frag_1 = np.zeros((n_frag_1,n_wan_at))\n",
    "        wan_frag_2 = np.zeros((n_frag_2,n_wan_at))\n",
    "        wan_frag_1_dist = np.zeros((n_frag_1,n_wan_at))\n",
    "        wan_frag_2_dist = np.zeros((n_frag_2,n_wan_at))\n",
    "        temp_sp = lines_sp[start_sp:start_sp+n_wan]\n",
    "        start_sp = start_sp+n_wan+2\n",
    "        coord = lines_uw[i+2:i+2+n_atom]\n",
    "        count_1 = 0\n",
    "        count_2 = 0\n",
    "        start = 0\n",
    "        start_wan = i+2+n_atom\n",
    "        print('Calculating {0} frame'.format(count_fr))\n",
    "        for j in range(len(coord)):\n",
    "            s1 = coord[j].split()\n",
    "            \n",
    "            if s1[0] == 'La':\n",
    "                wan_1 = float(temp_sp[start].split()[2])\n",
    "                wan_2 = float(temp_sp[start+1].split()[2])\n",
    "                wan_3 = float(temp_sp[start+2].split()[2])\n",
    "                wan_4 = float(temp_sp[start+3].split()[2])\n",
    "                start = start + 4\n",
    "                dist = calc_dist(coord[j],lines_uw[start_wan:start_wan+4])\n",
    "                start_wan = start_wan + 4\n",
    "                \n",
    "                wan_frag_1[count_1][:] = wan_1,wan_2,wan_3,wan_4\n",
    "                wan_frag_1_dist[count_1][:] = dist[0],dist[1],dist[2],dist[3]\n",
    "                wan_frag_2[count_1][:] = wan_1,wan_2,wan_3,wan_4\n",
    "                wan_frag_2_dist[count_1][:] = dist[0],dist[1],dist[2],dist[3]\n",
    "                count_1 = count_1 + 1\n",
    "            else:\n",
    "                start = start + 4\n",
    "                start_wan = start_wan + 4\n",
    "        #wan_frag_1 = wan_sp[0][:][:]\n",
    "        #wan_frag_2 = wan_sp[1][:][:]\n",
    "        #wan_frag_1_dist = wan_dist[0][:][:]\n",
    "        #wan_frag_2_dist = wan_dist[1][:][:]\n",
    "        #print(wan_frag_1_dist)\n",
    "        #print(coord[-1])\n",
    "        temp_C6,temp_C8=calc_coeff(wan_frag_1,wan_frag_2,wan_frag_1_dist,wan_frag_2_dist)\n",
    "        C6_final.extend(temp_C6)\n",
    "        C8_final.extend(temp_C8)"
   ]
  },
  {
   "cell_type": "code",
   "execution_count": 9,
   "id": "3ddf230a",
   "metadata": {},
   "outputs": [
    {
     "data": {
      "text/plain": [
       "2.882472551274574"
      ]
     },
     "execution_count": 9,
     "metadata": {},
     "output_type": "execute_result"
    }
   ],
   "source": [
    "((2**0.5)*(sum(C6_final)/len(C6_final)))*(0.529117**6)"
   ]
  },
  {
   "cell_type": "code",
   "execution_count": 10,
   "id": "2060bb9c",
   "metadata": {
    "scrolled": true
   },
   "outputs": [
    {
     "data": {
      "text/plain": [
       "5.814202762064319"
      ]
     },
     "execution_count": 10,
     "metadata": {},
     "output_type": "execute_result"
    }
   ],
   "source": [
    "((2**0.5)*(sum(C8_final)/len(C8_final)))*(0.529117**8)"
   ]
  },
  {
   "cell_type": "code",
   "execution_count": 15,
   "id": "29bb139a",
   "metadata": {},
   "outputs": [
    {
     "data": {
      "text/plain": [
       "(8568, 8568)"
      ]
     },
     "execution_count": 15,
     "metadata": {},
     "output_type": "execute_result"
    }
   ],
   "source": [
    "len(C8_final),len(C6_final)"
   ]
  },
  {
   "cell_type": "code",
   "execution_count": 78,
   "id": "44fd07e8",
   "metadata": {},
   "outputs": [
    {
     "data": {
      "text/plain": [
       "2750"
      ]
     },
     "execution_count": 78,
     "metadata": {},
     "output_type": "execute_result"
    }
   ],
   "source": [
    "55*1*50"
   ]
  },
  {
   "cell_type": "code",
   "execution_count": 10,
   "id": "43cbbec7",
   "metadata": {},
   "outputs": [
    {
     "data": {
      "text/plain": [
       "0.5202989981131498"
      ]
     },
     "execution_count": 10,
     "metadata": {},
     "output_type": "execute_result"
    }
   ],
   "source": [
    "((3.9379158395-3.8172510714)**2+(1.0531292503-0.5907411131 )**2+(-6.5607361025+6.3549491453)**2)**0.5"
   ]
  },
  {
   "cell_type": "code",
   "execution_count": 135,
   "id": "3ed3fef3",
   "metadata": {},
   "outputs": [],
   "source": [
    "def doubleIntegral(h, k, lx, ux, ly, uy):\n",
    " \n",
    "    # z stores the table\n",
    "    # ax[] stores the integral wrt y\n",
    "    # for all x points considered\n",
    "    z = [[None for i in range(500)]\n",
    "               for j in range(500)]\n",
    "    ax = [None] * 500\n",
    " \n",
    "    # Calculating the number of points\n",
    "    # in x and y integral\n",
    "    nx = round((ux - lx) / h + 1)\n",
    "    ny = round((uy - ly) / k + 1)\n",
    "    print(nx)\n",
    " \n",
    "    # Calculating the values of the table\n",
    "    for i in range(0, nx):\n",
    "        for j in range(0, ny):\n",
    "            z[i][j] = F(lx + i * h,ly + j * k,sp_1,sp_2)\n",
    "         \n",
    "    # Calculating the integral value\n",
    "    # wrt y at each point for x\n",
    "    for i in range(0, nx):\n",
    "        ax[i] = 0\n",
    "        for j in range(0, ny):\n",
    "             \n",
    "            if j == 0 or j == ny - 1:\n",
    "                ax[i] += z[i][j]\n",
    "            elif j % 2 == 0:\n",
    "                ax[i] += 2 * z[i][j]\n",
    "            else:\n",
    "                ax[i] += 4 * z[i][j]\n",
    "         \n",
    "        ax[i] *= (k / 3)\n",
    "     \n",
    "    answer = 0\n",
    " \n",
    "    # Calculating the final integral\n",
    "    # value using the integral\n",
    "    # obtained in the above step\n",
    "    for i in range(0, nx):\n",
    "        if i == 0 or i == nx - 1:\n",
    "            answer += ax[i]\n",
    "        elif i % 2 == 0:\n",
    "            answer += 2 * ax[i]\n",
    "        else:\n",
    "            answer += 4 * ax[i]\n",
    "     \n",
    "    answer *= (h / 3)\n",
    " \n",
    "    return answer"
   ]
  },
  {
   "cell_type": "code",
   "execution_count": 138,
   "id": "e01de7c9",
   "metadata": {},
   "outputs": [
    {
     "name": "stdout",
     "output_type": "stream",
     "text": [
      "22\n",
      "7.246513499999998\n"
     ]
    }
   ],
   "source": [
    "# lx and ux are upper and lower limit of x integral\n",
    "    # ly and uy are upper and lower limit of y integral\n",
    "    # h is the step size for integration wrt x\n",
    "    # k is the step size for integration wrt y\n",
    "lx, ux, ly = 0, lim_x, 0\n",
    "uy, h, k = lim_y, 0.15, 0.15\n",
    "print(round(doubleIntegral(h, k, lx, ux, ly, uy), 6)*prefac)"
   ]
  },
  {
   "cell_type": "code",
   "execution_count": 12,
   "id": "b44b1d0b",
   "metadata": {},
   "outputs": [
    {
     "ename": "ValueError",
     "evalue": "The truth value of an array with more than one element is ambiguous. Use a.any() or a.all()",
     "output_type": "error",
     "traceback": [
      "\u001b[0;31m---------------------------------------------------------------------------\u001b[0m",
      "\u001b[0;31mValueError\u001b[0m                                Traceback (most recent call last)",
      "Input \u001b[0;32mIn [12]\u001b[0m, in \u001b[0;36m<cell line: 3>\u001b[0;34m()\u001b[0m\n\u001b[1;32m      1\u001b[0m a \u001b[38;5;241m=\u001b[39m np\u001b[38;5;241m.\u001b[39marray([\u001b[38;5;241m1\u001b[39m,\u001b[38;5;241m2\u001b[39m,\u001b[38;5;241m3\u001b[39m])\n\u001b[1;32m      2\u001b[0m b \u001b[38;5;241m=\u001b[39m np\u001b[38;5;241m.\u001b[39marray([\u001b[38;5;241m1\u001b[39m,\u001b[38;5;241m2\u001b[39m,\u001b[38;5;241m3\u001b[39m])\n\u001b[0;32m----> 3\u001b[0m \u001b[38;5;28;01mif\u001b[39;00m a\u001b[38;5;241m==\u001b[39mb:\n\u001b[1;32m      4\u001b[0m     \u001b[38;5;28mprint\u001b[39m(\u001b[38;5;124m'\u001b[39m\u001b[38;5;124mTrue\u001b[39m\u001b[38;5;124m'\u001b[39m)\n",
      "\u001b[0;31mValueError\u001b[0m: The truth value of an array with more than one element is ambiguous. Use a.any() or a.all()"
     ]
    }
   ],
   "source": [
    "a = np.array([1,2,3])\n",
    "b = np.array([1,2,3])\n",
    "if a==b:\n",
    "    print('True')"
   ]
  },
  {
   "cell_type": "code",
   "execution_count": 19,
   "id": "64ca9298",
   "metadata": {},
   "outputs": [
    {
     "name": "stdout",
     "output_type": "stream",
     "text": [
      "140475828977344\n",
      "140475828977344 140475828977344\n",
      "[1, 2, 3, 3] [1, 2, 3, 3] None\n"
     ]
    }
   ],
   "source": [
    "a = [1,2,3]\n",
    "b = a\n",
    "print(id(a))\n",
    "c = a.append(3)\n",
    "print(id(a),id(b))\n",
    "print(a,b,c)"
   ]
  },
  {
   "cell_type": "code",
   "execution_count": null,
   "id": "a9049bdb",
   "metadata": {},
   "outputs": [],
   "source": []
  }
 ],
 "metadata": {
  "kernelspec": {
   "display_name": "Python 3 (ipykernel)",
   "language": "python",
   "name": "python3"
  },
  "language_info": {
   "codemirror_mode": {
    "name": "ipython",
    "version": 3
   },
   "file_extension": ".py",
   "mimetype": "text/x-python",
   "name": "python",
   "nbconvert_exporter": "python",
   "pygments_lexer": "ipython3",
   "version": "3.9.12"
  }
 },
 "nbformat": 4,
 "nbformat_minor": 5
}
